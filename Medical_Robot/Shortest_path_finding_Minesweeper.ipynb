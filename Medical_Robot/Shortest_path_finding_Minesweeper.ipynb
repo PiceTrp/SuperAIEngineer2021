{
  "nbformat": 4,
  "nbformat_minor": 0,
  "metadata": {
    "colab": {
      "name": "Shortest_path_finding_Minesweeper.ipynb",
      "provenance": [],
      "collapsed_sections": [
        "TnaFKpRhwbKM",
        "d9beJCVE2zjp",
        "qHYWqkx0RnqG",
        "JsgxsI9ErtOW",
        "xERufOtn8xoj",
        "fFyG4kFQ7hZI",
        "CfW6XaHz23Ut",
        "RPzdLfMr1mCC",
        "B5uxoJSV2l-H",
        "eVrgN1VE_8gS"
      ]
    },
    "kernelspec": {
      "name": "python3",
      "display_name": "Python 3"
    },
    "language_info": {
      "name": "python"
    }
  },
  "cells": [
    {
      "cell_type": "code",
      "execution_count": null,
      "metadata": {
        "id": "RXk9pNeYtpqF"
      },
      "outputs": [],
      "source": [
        "import numpy as np\n",
        "import pandas as pd\n",
        "import matplotlib.pyplot as plt\n",
        "import seaborn as sns\n",
        "from matplotlib.animation import FuncAnimation"
      ]
    },
    {
      "cell_type": "markdown",
      "source": [
        "# Shotest path Algorithm"
      ],
      "metadata": {
        "id": "ydUcWGmGStlh"
      }
    },
    {
      "cell_type": "markdown",
      "source": [
        "## Patients to coordinate"
      ],
      "metadata": {
        "id": "b21k9Cr82pfA"
      }
    },
    {
      "cell_type": "markdown",
      "source": [
        "### Priority of patients (coordinate ver. 7*7)"
      ],
      "metadata": {
        "id": "d9beJCVE2zjp"
      }
    },
    {
      "cell_type": "code",
      "source": [
        "def patients_sequence_left_to_right(p1, p2, p3, p4, p5): # p is point (x,y)\n",
        "  table = [[' ' for i in range(0,7)] for i in range(0,7)]\n",
        "  table[0][3] = '0'\n",
        "  patients = [p1, p2, p3, p4, p5]\n",
        "\n",
        "  for point in patients:\n",
        "    mark = 'x' \n",
        "    x = point[0]\n",
        "    y = point[1]\n",
        "    table[x][y] = mark\n",
        "  \n",
        "  priority = 1\n",
        "\n",
        "  for row in range(0,7):\n",
        "    for col in range(1,4):\n",
        "      if table[row][col] == 'x':\n",
        "        table[row][col] = str(priority)\n",
        "        priority = priority + 1\n",
        "\n",
        "  for row in range(6,-1,-1):\n",
        "    for col in range(4,7):\n",
        "      if table[row][col] == 'x':\n",
        "        table[row][col] = str(priority)\n",
        "        priority = priority + 1\n",
        "\n",
        "  return table"
      ],
      "metadata": {
        "id": "pK-_JpibCGIi"
      },
      "execution_count": null,
      "outputs": []
    },
    {
      "cell_type": "code",
      "source": [
        "p1 = (2,1)\n",
        "p2 = (5,1)\n",
        "p3 = (5,3)\n",
        "p4 = (6,1)\n",
        "p5 = (6,6)\n",
        "patients = [p1, p2, p3, p4, p5]"
      ],
      "metadata": {
        "id": "N-mYvvoxDKtW"
      },
      "execution_count": null,
      "outputs": []
    },
    {
      "cell_type": "code",
      "source": [
        "patients_sequence_left_to_right(p1, p2, p3, p4, p5)"
      ],
      "metadata": {
        "colab": {
          "base_uri": "https://localhost:8080/"
        },
        "id": "yL7CXZZXDGmL",
        "outputId": "afebbe71-953c-4044-a02c-375eac4047b5"
      },
      "execution_count": null,
      "outputs": [
        {
          "output_type": "execute_result",
          "data": {
            "text/plain": [
              "[[' ', ' ', ' ', '0', ' ', ' ', ' '],\n",
              " [' ', ' ', ' ', ' ', ' ', ' ', ' '],\n",
              " [' ', '1', ' ', ' ', ' ', ' ', ' '],\n",
              " [' ', ' ', ' ', ' ', ' ', ' ', ' '],\n",
              " [' ', ' ', ' ', ' ', ' ', ' ', ' '],\n",
              " [' ', '2', ' ', '3', ' ', ' ', ' '],\n",
              " [' ', '4', ' ', ' ', ' ', ' ', '5']]"
            ]
          },
          "metadata": {},
          "execution_count": 44
        }
      ]
    },
    {
      "cell_type": "markdown",
      "source": [
        "## find parking for patients (box ver. 6*6)"
      ],
      "metadata": {
        "id": "ZcmbFM8KYON4"
      }
    },
    {
      "cell_type": "markdown",
      "source": [
        "### initial the map"
      ],
      "metadata": {
        "id": "Q0_DJ2JI8fHX"
      }
    },
    {
      "cell_type": "code",
      "source": [
        "p1 = [(4,4), 1]\n",
        "p2 = [(1,1), 2]\n",
        "p3 = [(2,5), 2]\n",
        "p4 = [(3,0), 2]\n",
        "p5 = [(0,3), 3]\n",
        "patients = [p1,p2,p3,p4,p5]\n",
        "points = [patients[0][0], patients[1][0], patients[2][0], patients[3][0], patients[4][0]]"
      ],
      "metadata": {
        "id": "_FEUm24YiWF_"
      },
      "execution_count": null,
      "outputs": []
    },
    {
      "cell_type": "code",
      "source": [
        "p1 = [(0,0), 1]\n",
        "p2 = [(1,0), 2]\n",
        "p3 = [(1,5), 3]\n",
        "p4 = [(3,2), 2]\n",
        "p5 = [(5,4), 1]\n",
        "patients = [p1,p2,p3,p4,p5]\n",
        "points = [patients[0][0], patients[1][0], patients[2][0], patients[3][0], patients[4][0]]"
      ],
      "metadata": {
        "id": "Uz_DsBu15I9s"
      },
      "execution_count": null,
      "outputs": []
    },
    {
      "cell_type": "code",
      "source": [
        "p1 = [(0,0), 3]\n",
        "p2 = [(1,5), 2]\n",
        "p3 = [(2,2), 1]\n",
        "p4 = [(3,2), 2]\n",
        "p5 = [(5,4), 1]\n",
        "patients = [p1,p2,p3,p4,p5]\n",
        "points = [patients[0][0], patients[1][0], patients[2][0], patients[3][0], patients[4][0]]"
      ],
      "metadata": {
        "id": "SN8SICccDjFd"
      },
      "execution_count": null,
      "outputs": []
    },
    {
      "cell_type": "code",
      "source": [
        "p1 = [(0,5), 2]\n",
        "p2 = [(2,3), 2]\n",
        "p3 = [(2,5), 3]\n",
        "p4 = [(3,4), 2]\n",
        "p5 = [(5,5), 2]\n",
        "patients = [p1,p2,p3,p4,p5]\n",
        "points = [patients[0][0], patients[1][0], patients[2][0], patients[3][0], patients[4][0]]"
      ],
      "metadata": {
        "id": "COI5AsVH7HMo"
      },
      "execution_count": null,
      "outputs": []
    },
    {
      "cell_type": "code",
      "source": [
        "p1 = [(0,2), 3]\n",
        "p2 = [(1,4), 2]\n",
        "p3 = [(2,1), 2]\n",
        "p4 = [(3,3), 1]\n",
        "p5 = [(4,2), 2]\n",
        "patients = [p1,p2,p3,p4,p5]\n",
        "points = [patients[0][0], patients[1][0], patients[2][0], patients[3][0], patients[4][0]]"
      ],
      "metadata": {
        "id": "nyftwqY3D_6F"
      },
      "execution_count": null,
      "outputs": []
    },
    {
      "cell_type": "code",
      "source": [
        "print(patients)\n",
        "print(points)"
      ],
      "metadata": {
        "colab": {
          "base_uri": "https://localhost:8080/"
        },
        "id": "MqzZBH250I-e",
        "outputId": "8f9f7cf2-eb5f-4299-a4b3-24c19bdab06c"
      },
      "execution_count": null,
      "outputs": [
        {
          "output_type": "stream",
          "name": "stdout",
          "text": [
            "[[(0, 2), 3], [(1, 4), 2], [(2, 1), 2], [(3, 3), 1], [(4, 2), 2]]\n",
            "[(0, 2), (1, 4), (2, 1), (3, 3), (4, 2)]\n"
          ]
        }
      ]
    },
    {
      "cell_type": "code",
      "source": [
        "table = [[0 for i in range(0,6)] for i in range(0,6)]\n",
        "patients = [p1, p2, p3, p4, p5]\n",
        "for patient in patients:\n",
        "  point = patient[0]\n",
        "  priority = patient[1]\n",
        "  x = point[0]\n",
        "  y = point[1]\n",
        "  if priority == 3:\n",
        "    table[x][y] = 'L3'\n",
        "  elif priority == 2:\n",
        "    table[x][y] = 'L2'\n",
        "  elif priority == 1:\n",
        "    table[x][y] = 'L1'\n",
        "table"
      ],
      "metadata": {
        "colab": {
          "base_uri": "https://localhost:8080/"
        },
        "id": "q5tCmV_khv5O",
        "outputId": "e33b8f1b-745d-4d13-b8ff-e33620c003bf"
      },
      "execution_count": null,
      "outputs": [
        {
          "output_type": "execute_result",
          "data": {
            "text/plain": [
              "[[0, 0, 'L3', 0, 0, 0],\n",
              " [0, 0, 0, 0, 'L2', 0],\n",
              " [0, 'L2', 0, 0, 0, 0],\n",
              " [0, 0, 0, 'L1', 0, 0],\n",
              " [0, 0, 'L2', 0, 0, 0],\n",
              " [0, 0, 0, 0, 0, 0]]"
            ]
          },
          "metadata": {},
          "execution_count": 13
        }
      ]
    },
    {
      "cell_type": "code",
      "source": [
        "# create mask to use with A*\n",
        "from copy import deepcopy\n",
        "maze = deepcopy(table)\n",
        "for i in range(0,6):\n",
        "  for j in range(0,6):\n",
        "    if maze[i][j] == 'L1' or maze[i][j] == 'L2' or maze[i][j] == 'L3':\n",
        "      maze[i][j] = 1\n",
        "maze"
      ],
      "metadata": {
        "colab": {
          "base_uri": "https://localhost:8080/"
        },
        "id": "U0wlP8EgOSPd",
        "outputId": "b1d5aaa0-5ac9-42a6-92bd-2d0678a1089a"
      },
      "execution_count": null,
      "outputs": [
        {
          "output_type": "execute_result",
          "data": {
            "text/plain": [
              "[[0, 0, 1, 0, 0, 0],\n",
              " [0, 0, 0, 0, 1, 0],\n",
              " [0, 1, 0, 0, 0, 0],\n",
              " [0, 0, 0, 1, 0, 0],\n",
              " [0, 0, 1, 0, 0, 0],\n",
              " [0, 0, 0, 0, 0, 0]]"
            ]
          },
          "metadata": {},
          "execution_count": 14
        }
      ]
    },
    {
      "cell_type": "markdown",
      "source": [
        "##### find all patients around in each box and assign weight each"
      ],
      "metadata": {
        "id": "B2N7JT-s7lrd"
      }
    },
    {
      "cell_type": "code",
      "source": [
        "# add area where it has more than 1 patient\n",
        "for i in range(0,6):\n",
        "  for j in range(0,6):\n",
        "    point = (i,j)\n",
        "    if point not in points:\n",
        "      x = point[0]\n",
        "      y = point[1]\n",
        "      count = 0\n",
        "      for row in range(x-1,x+2):\n",
        "        for col in range(y-1,y+2):\n",
        "          if row > -1 and col > -1 and row < 6 and col < 6: # in range 0 - 5\n",
        "            if (row,col) != (x,y):\n",
        "              if table[row][col] == 'L1':\n",
        "                count = count + 1\n",
        "              elif table[row][col] == 'L2':\n",
        "                count = count + 5\n",
        "              elif table[row][col] == 'L3':\n",
        "                count = count + 25\n",
        "      table[x][y] = count"
      ],
      "metadata": {
        "id": "yYwSVxW63csK"
      },
      "execution_count": null,
      "outputs": []
    },
    {
      "cell_type": "code",
      "source": [
        "from tabulate import tabulate\n",
        "print(tabulate(table))"
      ],
      "metadata": {
        "colab": {
          "base_uri": "https://localhost:8080/"
        },
        "id": "o0rBpG8V9BmF",
        "outputId": "cd036156-9cdd-445b-e325-269506edbe92"
      },
      "execution_count": null,
      "outputs": [
        {
          "output_type": "stream",
          "name": "stdout",
          "text": [
            "-  --  --  --  --  -\n",
            "0  25  L3  30  5   5\n",
            "5  30  30  30  L2  5\n",
            "5  L2  6   6   6   5\n",
            "5  10  11  L1  1   0\n",
            "0  5   L2  6   1   0\n",
            "0  5   5   5   0   0\n",
            "-  --  --  --  --  -\n"
          ]
        }
      ]
    },
    {
      "cell_type": "code",
      "source": [
        "initial_table = deepcopy(table)\n",
        "initial_table"
      ],
      "metadata": {
        "colab": {
          "base_uri": "https://localhost:8080/"
        },
        "id": "ZYWrPoW80xh1",
        "outputId": "e5a90b1c-2aa4-4cb9-c5e3-ec3fa44a87ba"
      },
      "execution_count": null,
      "outputs": [
        {
          "output_type": "execute_result",
          "data": {
            "text/plain": [
              "[[0, 25, 'L3', 30, 5, 5],\n",
              " [5, 30, 30, 30, 'L2', 5],\n",
              " [5, 'L2', 6, 6, 6, 5],\n",
              " [5, 10, 11, 'L1', 1, 0],\n",
              " [0, 5, 'L2', 6, 1, 0],\n",
              " [0, 5, 5, 5, 0, 0]]"
            ]
          },
          "metadata": {},
          "execution_count": 17
        }
      ]
    },
    {
      "cell_type": "markdown",
      "source": [
        "### Find Direction to go to"
      ],
      "metadata": {
        "id": "2qzVb0_5-Unf"
      }
    },
    {
      "cell_type": "markdown",
      "source": [
        "##### Utils functions"
      ],
      "metadata": {
        "id": "j889JpWfrml4"
      }
    },
    {
      "cell_type": "code",
      "source": [
        "def find_max_weight(table): # หาว่าตอนนี้ใน table ค่า weight ไหนคือค่าที่มากที่สุด\n",
        "  max = 0\n",
        "  for i in range(0,6):\n",
        "    for j in range(0,6):\n",
        "      if type(table[i][j]) is not str:\n",
        "        if table[i][j] >= max:\n",
        "          max = table[i][j]\n",
        "  return max"
      ],
      "metadata": {
        "id": "Inhi0G4f-ydi"
      },
      "execution_count": null,
      "outputs": []
    },
    {
      "cell_type": "code",
      "source": [
        "def find_max_positions(max, table): # หาตำแหน่งที่มีค่า weight ที่มากที่สุดทั้งหมดใน table\n",
        "  max_positions = []\n",
        "  for i in range(0,6):\n",
        "    for j in range(0,6):\n",
        "      if table[i][j] == max:\n",
        "        point = (i,j)\n",
        "        max_positions.append(point)\n",
        "  return max_positions"
      ],
      "metadata": {
        "id": "-Q36KNpT-yWn"
      },
      "execution_count": null,
      "outputs": []
    },
    {
      "cell_type": "code",
      "source": [
        "def patients_healed_positions(point): # to check patients around that max_positions points\n",
        "  x = point[0]\n",
        "  y = point[1]\n",
        "  patient_points = []\n",
        "  for i in range(x-1, x+2):\n",
        "    for j in range(y-1, y+2):\n",
        "      if i > -1 and i < 6 and j > -1 and j < 6:\n",
        "        if table[i][j] == 'L1':\n",
        "          print(\"degree of patient: {}, position of patient: {}\".format('L1', (i,j)))\n",
        "          point = (i,j)\n",
        "          patient_points.append(point)\n",
        "        elif table[i][j] == 'L2':\n",
        "          print(\"degree of patient: {}, position of patient: {}\".format('L2', (i,j)))\n",
        "          point = (i,j)\n",
        "          patient_points.append(point)\n",
        "        elif table[i][j] == 'L3':\n",
        "          print(\"degree of patient: {}, position of patient: {}\".format('L3', (i,j)))\n",
        "          point = (i,j)\n",
        "          patient_points.append(point)\n",
        "  return patient_points"
      ],
      "metadata": {
        "id": "7zTKxVC2FXYJ"
      },
      "execution_count": null,
      "outputs": []
    },
    {
      "cell_type": "code",
      "source": [
        "def clear_weight_around(point, table): # point: (x,y) - must input patient point\n",
        "  x= point[0]\n",
        "  y= point[1]\n",
        "  priority = 0\n",
        "  for i in range(x-1, x+2):\n",
        "    for j in range(y-1, y+2):\n",
        "      if i > -1 and i < 6 and j > -1 and j < 6:\n",
        "        if (i,j) != (x,y) and type(table[i][j]) is int:\n",
        "          for k in range(len(points)):\n",
        "            if point == patients[k][0]:\n",
        "              priority = patients[k][1]\n",
        "          #print(table[i][j])\n",
        "          if priority == 3:\n",
        "            if (table[i][j] - 25) >= 0:\n",
        "              try:\n",
        "                table[i][j] = table[i][j] - 25\n",
        "              except:\n",
        "                pass\n",
        "          elif priority == 2:\n",
        "            if (table[i][j] - 5) >= 0:\n",
        "              try:\n",
        "                table[i][j] = table[i][j] - 5\n",
        "              except:\n",
        "                pass\n",
        "          elif priority == 1:\n",
        "            if (table[i][j] - 1) >= 0:\n",
        "              try:\n",
        "                table[i][j] = table[i][j] - 1\n",
        "              except:\n",
        "                pass"
      ],
      "metadata": {
        "id": "RGMKo81vIml_"
      },
      "execution_count": null,
      "outputs": []
    },
    {
      "cell_type": "code",
      "source": [
        "def get_stop_point_and_clear_weight_table(table):\n",
        "  max = find_max_weight(table)\n",
        "  max_positions = find_max_positions(max, table)\n",
        "  print(\"max weight's postions is/are {}\".format(max_positions))\n",
        "\n",
        "  pair_of_max_point_and_table = []\n",
        "\n",
        "  for point in max_positions:\n",
        "    print(\"--{}--\".format(point))\n",
        "    pt_points = patients_healed_positions(point)\n",
        "\n",
        "    temp_table = deepcopy(table)\n",
        "    for pt_point in pt_points:\n",
        "      clear_weight_around(pt_point, temp_table)\n",
        "    print(tabulate(temp_table))\n",
        "\n",
        "    pair_of_max_point_and_table.append([point, temp_table])\n",
        "\n",
        "  return pair_of_max_point_and_table"
      ],
      "metadata": {
        "id": "cCUBJrCTUSsE"
      },
      "execution_count": null,
      "outputs": []
    },
    {
      "cell_type": "code",
      "source": [
        "def check_zero(table):\n",
        "  sum = 0\n",
        "  for i in range(0, 6):\n",
        "    for j in range(0, 6):\n",
        "      if type(table[i][j]) is int:\n",
        "        sum = sum + table[i][j]\n",
        "  return sum"
      ],
      "metadata": {
        "id": "vgmWpTscfpkS"
      },
      "execution_count": null,
      "outputs": []
    },
    {
      "cell_type": "code",
      "source": [
        "def find_min_index(next_step, start):\n",
        "  max_pos = [i[0] for i in next_step]\n",
        "  path_length = []\n",
        "  for i in max_pos:\n",
        "    start = start\n",
        "    end = i\n",
        "    path = astar(maze, start, end)\n",
        "    path_length.append(len(path))\n",
        "  # print(path_length)\n",
        "  min_index = path_length.index(min(path_length))\n",
        "  return min_index"
      ],
      "metadata": {
        "id": "CHy0b0FwwyyD"
      },
      "execution_count": null,
      "outputs": []
    },
    {
      "cell_type": "code",
      "source": [
        "def check_back_point(maze, lastpoint):\n",
        "  # check with a*\n",
        "  path_length = []\n",
        "  ends = [(5,2),(5,3)]\n",
        "  start = lastpoint\n",
        "\n",
        "  for i in ends:\n",
        "    end = i\n",
        "    path = astar(maze, start, end)\n",
        "    path_length.append(len(path))\n",
        "\n",
        "  min_index = path_length.index(min(path_length))\n",
        "  return ends[min_index]"
      ],
      "metadata": {
        "id": "9-atgnyGKqve"
      },
      "execution_count": null,
      "outputs": []
    },
    {
      "cell_type": "markdown",
      "source": [
        "## Run the result"
      ],
      "metadata": {
        "id": "ZZc_nWQVRggO"
      }
    },
    {
      "cell_type": "code",
      "source": [
        "initial_table = deepcopy(table)\n",
        "path = [(5,2)]\n",
        "\n",
        "while True:\n",
        "  if check_zero(initial_table) == 0:\n",
        "    break\n",
        "  else:\n",
        "    next_step = get_stop_point_and_clear_weight_table(initial_table)\n",
        "    min_index = find_min_index(next_step, path[-1]) # the index that has the shortest distance from the start to the max weight point\n",
        "    initial_table = next_step[min_index][1]\n",
        "    path.append(next_step[min_index][0])"
      ],
      "metadata": {
        "colab": {
          "base_uri": "https://localhost:8080/"
        },
        "id": "MT1rzF3BhBc_",
        "outputId": "3815b35a-747d-490a-90cd-11d8c6992071"
      },
      "execution_count": null,
      "outputs": [
        {
          "output_type": "stream",
          "name": "stdout",
          "text": [
            "max weight's postions is/are [(0, 3), (1, 1), (1, 2), (1, 3)]\n",
            "--(0, 3)--\n",
            "degree of patient: L3, position of patient: (0, 2)\n",
            "degree of patient: L2, position of patient: (1, 4)\n",
            "-  --  --  --  --  -\n",
            "0  0   L3  0   0   0\n",
            "5  5   5   0   L2  0\n",
            "5  L2  6   1   1   0\n",
            "5  10  11  L1  1   0\n",
            "0  5   L2  6   1   0\n",
            "0  5   5   5   0   0\n",
            "-  --  --  --  --  -\n",
            "--(1, 1)--\n",
            "degree of patient: L3, position of patient: (0, 2)\n",
            "degree of patient: L2, position of patient: (2, 1)\n",
            "-  --  --  --  --  -\n",
            "0  0   L3  5   5   5\n",
            "0  0   0   5   L2  5\n",
            "0  L2  1   6   6   5\n",
            "0  5   6   L1  1   0\n",
            "0  5   L2  6   1   0\n",
            "0  5   5   5   0   0\n",
            "-  --  --  --  --  -\n",
            "--(1, 2)--\n",
            "degree of patient: L3, position of patient: (0, 2)\n",
            "degree of patient: L2, position of patient: (2, 1)\n",
            "-  --  --  --  --  -\n",
            "0  0   L3  5   5   5\n",
            "0  0   0   5   L2  5\n",
            "0  L2  1   6   6   5\n",
            "0  5   6   L1  1   0\n",
            "0  5   L2  6   1   0\n",
            "0  5   5   5   0   0\n",
            "-  --  --  --  --  -\n",
            "--(1, 3)--\n",
            "degree of patient: L3, position of patient: (0, 2)\n",
            "degree of patient: L2, position of patient: (1, 4)\n",
            "-  --  --  --  --  -\n",
            "0  0   L3  0   0   0\n",
            "5  5   5   0   L2  0\n",
            "5  L2  6   1   1   0\n",
            "5  10  11  L1  1   0\n",
            "0  5   L2  6   1   0\n",
            "0  5   5   5   0   0\n",
            "-  --  --  --  --  -\n",
            "max weight's postions is/are [(2, 3), (2, 4), (3, 2), (4, 3)]\n",
            "--(2, 3)--\n",
            "degree of patient: L2, position of patient: (1, 4)\n",
            "degree of patient: L1, position of patient: (3, 3)\n",
            "-  --  --  --  --  -\n",
            "0  0   L3  0   0   0\n",
            "0  0   0   0   L2  0\n",
            "0  L2  0   0   0   0\n",
            "0  5   5   L1  0   0\n",
            "0  5   L2  5   0   0\n",
            "0  5   5   5   0   0\n",
            "-  --  --  --  --  -\n",
            "--(2, 4)--\n",
            "degree of patient: L2, position of patient: (1, 4)\n",
            "degree of patient: L1, position of patient: (3, 3)\n",
            "-  --  --  --  --  -\n",
            "0  0   L3  0   0   0\n",
            "0  0   0   0   L2  0\n",
            "0  L2  0   0   0   0\n",
            "0  5   5   L1  0   0\n",
            "0  5   L2  5   0   0\n",
            "0  5   5   5   0   0\n",
            "-  --  --  --  --  -\n",
            "--(3, 2)--\n",
            "degree of patient: L2, position of patient: (2, 1)\n",
            "degree of patient: L1, position of patient: (3, 3)\n",
            "degree of patient: L2, position of patient: (4, 2)\n",
            "-  --  --  --  --  -\n",
            "0  0   L3  5   5   5\n",
            "0  0   0   5   L2  5\n",
            "0  L2  0   5   5   5\n",
            "0  0   0   L1  0   0\n",
            "0  0   L2  0   0   0\n",
            "0  0   0   0   0   0\n",
            "-  --  --  --  --  -\n",
            "--(4, 3)--\n",
            "degree of patient: L1, position of patient: (3, 3)\n",
            "degree of patient: L2, position of patient: (4, 2)\n",
            "-  --  --  --  --  -\n",
            "0  0   L3  5   5   5\n",
            "0  0   0   5   L2  5\n",
            "0  L2  0   5   5   5\n",
            "0  0   0   L1  0   0\n",
            "0  0   L2  0   0   0\n",
            "0  0   0   0   0   0\n",
            "-  --  --  --  --  -\n",
            "max weight's postions is/are [(3, 1), (3, 2), (4, 1), (4, 3), (5, 1), (5, 2), (5, 3)]\n",
            "--(3, 1)--\n",
            "degree of patient: L2, position of patient: (2, 1)\n",
            "degree of patient: L2, position of patient: (4, 2)\n",
            "-  --  --  --  --  -\n",
            "0  0   L3  0   0   0\n",
            "0  0   0   0   L2  0\n",
            "0  L2  0   0   0   0\n",
            "0  0   0   L1  0   0\n",
            "0  0   L2  0   0   0\n",
            "0  0   0   0   0   0\n",
            "-  --  --  --  --  -\n",
            "--(3, 2)--\n",
            "degree of patient: L2, position of patient: (2, 1)\n",
            "degree of patient: L1, position of patient: (3, 3)\n",
            "degree of patient: L2, position of patient: (4, 2)\n",
            "-  --  --  --  --  -\n",
            "0  0   L3  0   0   0\n",
            "0  0   0   0   L2  0\n",
            "0  L2  0   0   0   0\n",
            "0  0   0   L1  0   0\n",
            "0  0   L2  4   0   0\n",
            "0  0   0   0   0   0\n",
            "-  --  --  --  --  -\n",
            "--(4, 1)--\n",
            "degree of patient: L2, position of patient: (4, 2)\n",
            "-  --  --  --  --  -\n",
            "0  0   L3  0   0   0\n",
            "0  0   0   0   L2  0\n",
            "0  L2  0   0   0   0\n",
            "0  0   0   L1  0   0\n",
            "0  0   L2  0   0   0\n",
            "0  0   0   0   0   0\n",
            "-  --  --  --  --  -\n",
            "--(4, 3)--\n",
            "degree of patient: L1, position of patient: (3, 3)\n",
            "degree of patient: L2, position of patient: (4, 2)\n",
            "-  --  --  --  --  -\n",
            "0  0   L3  0   0   0\n",
            "0  0   0   0   L2  0\n",
            "0  L2  0   0   0   0\n",
            "0  0   4   L1  0   0\n",
            "0  0   L2  4   0   0\n",
            "0  0   0   0   0   0\n",
            "-  --  --  --  --  -\n",
            "--(5, 1)--\n",
            "degree of patient: L2, position of patient: (4, 2)\n",
            "-  --  --  --  --  -\n",
            "0  0   L3  0   0   0\n",
            "0  0   0   0   L2  0\n",
            "0  L2  0   0   0   0\n",
            "0  0   0   L1  0   0\n",
            "0  0   L2  0   0   0\n",
            "0  0   0   0   0   0\n",
            "-  --  --  --  --  -\n",
            "--(5, 2)--\n",
            "degree of patient: L2, position of patient: (4, 2)\n",
            "-  --  --  --  --  -\n",
            "0  0   L3  0   0   0\n",
            "0  0   0   0   L2  0\n",
            "0  L2  0   0   0   0\n",
            "0  0   0   L1  0   0\n",
            "0  0   L2  0   0   0\n",
            "0  0   0   0   0   0\n",
            "-  --  --  --  --  -\n",
            "--(5, 3)--\n",
            "degree of patient: L2, position of patient: (4, 2)\n",
            "-  --  --  --  --  -\n",
            "0  0   L3  0   0   0\n",
            "0  0   0   0   L2  0\n",
            "0  L2  0   0   0   0\n",
            "0  0   0   L1  0   0\n",
            "0  0   L2  0   0   0\n",
            "0  0   0   0   0   0\n",
            "-  --  --  --  --  -\n",
            "max weight's postions is/are [(4, 3)]\n",
            "--(4, 3)--\n",
            "degree of patient: L1, position of patient: (3, 3)\n",
            "degree of patient: L2, position of patient: (4, 2)\n",
            "-  --  --  --  --  -\n",
            "0  0   L3  0   0   0\n",
            "0  0   0   0   L2  0\n",
            "0  L2  0   0   0   0\n",
            "0  0   0   L1  0   0\n",
            "0  0   L2  3   0   0\n",
            "0  0   0   0   0   0\n",
            "-  --  --  --  --  -\n",
            "max weight's postions is/are [(4, 3)]\n",
            "--(4, 3)--\n",
            "degree of patient: L1, position of patient: (3, 3)\n",
            "degree of patient: L2, position of patient: (4, 2)\n",
            "-  --  --  --  --  -\n",
            "0  0   L3  0   0   0\n",
            "0  0   0   0   L2  0\n",
            "0  L2  0   0   0   0\n",
            "0  0   0   L1  0   0\n",
            "0  0   L2  2   0   0\n",
            "0  0   0   0   0   0\n",
            "-  --  --  --  --  -\n",
            "max weight's postions is/are [(4, 3)]\n",
            "--(4, 3)--\n",
            "degree of patient: L1, position of patient: (3, 3)\n",
            "degree of patient: L2, position of patient: (4, 2)\n",
            "-  --  --  --  --  -\n",
            "0  0   L3  0   0   0\n",
            "0  0   0   0   L2  0\n",
            "0  L2  0   0   0   0\n",
            "0  0   0   L1  0   0\n",
            "0  0   L2  1   0   0\n",
            "0  0   0   0   0   0\n",
            "-  --  --  --  --  -\n",
            "max weight's postions is/are [(4, 3)]\n",
            "--(4, 3)--\n",
            "degree of patient: L1, position of patient: (3, 3)\n",
            "degree of patient: L2, position of patient: (4, 2)\n",
            "-  --  --  --  --  -\n",
            "0  0   L3  0   0   0\n",
            "0  0   0   0   L2  0\n",
            "0  L2  0   0   0   0\n",
            "0  0   0   L1  0   0\n",
            "0  0   L2  0   0   0\n",
            "0  0   0   0   0   0\n",
            "-  --  --  --  --  -\n"
          ]
        }
      ]
    },
    {
      "cell_type": "code",
      "source": [
        "path"
      ],
      "metadata": {
        "colab": {
          "base_uri": "https://localhost:8080/"
        },
        "id": "FYCV3WtL4iJp",
        "outputId": "dd840e70-ff4d-443e-c3ff-bce460313d8d"
      },
      "execution_count": null,
      "outputs": [
        {
          "output_type": "execute_result",
          "data": {
            "text/plain": [
              "[(5, 2), (1, 1), (2, 3), (3, 2), (4, 3), (4, 3), (4, 3), (4, 3)]"
            ]
          },
          "metadata": {},
          "execution_count": 36
        }
      ]
    },
    {
      "cell_type": "markdown",
      "source": [
        "# Create weight-based shotest path algorithm function"
      ],
      "metadata": {
        "id": "uKBbnMNpEvap"
      }
    },
    {
      "cell_type": "markdown",
      "source": [
        "> Input"
      ],
      "metadata": {
        "id": "iy7o_v81FVss"
      }
    },
    {
      "cell_type": "code",
      "source": [
        "p1 = [(0,2), 3]\n",
        "p2 = [(1,4), 2]\n",
        "p3 = [(2,1), 2]\n",
        "p4 = [(3,3), 1]\n",
        "p5 = [(4,2), 2]\n",
        "patients = [p1,p2,p3,p4,p5]\n",
        "points = [patients[0][0], patients[1][0], patients[2][0], patients[3][0], patients[4][0]]"
      ],
      "metadata": {
        "id": "KIP_j3yRDf-7"
      },
      "execution_count": null,
      "outputs": []
    },
    {
      "cell_type": "code",
      "source": [
        "p1 = [(0,5), 2]\n",
        "p2 = [(2,3), 2]\n",
        "p3 = [(2,5), 3]\n",
        "p4 = [(3,4), 2]\n",
        "p5 = [(5,5), 2]\n",
        "patients = [p1,p2,p3,p4,p5]\n",
        "points = [patients[0][0], patients[1][0], patients[2][0], patients[3][0], patients[4][0]]"
      ],
      "metadata": {
        "id": "pj3WT2rQE2yz"
      },
      "execution_count": null,
      "outputs": []
    },
    {
      "cell_type": "markdown",
      "source": [
        "> Function"
      ],
      "metadata": {
        "id": "BgDZin_fFW_j"
      }
    },
    {
      "cell_type": "code",
      "source": [
        "from copy import deepcopy\n",
        "from tabulate import tabulate\n",
        "\n",
        "table = [[0 for i in range(0,6)] for i in range(0,6)]\n",
        "\n",
        "def shortest_path_with_priority(patients, points):\n",
        "\n",
        "  # Initial map\n",
        "  #patients = [p1, p2, p3, p4, p5]\n",
        "  for patient in patients:\n",
        "    point = patient[0]\n",
        "    priority = patient[1]\n",
        "    x = point[0]\n",
        "    y = point[1]\n",
        "    if priority == 3:\n",
        "      table[x][y] = 'L3'\n",
        "    elif priority == 2:\n",
        "      table[x][y] = 'L2'\n",
        "    elif priority == 1:\n",
        "      table[x][y] = 'L1'\n",
        "\n",
        "  # Initial maze\n",
        "  from copy import deepcopy\n",
        "  maze = deepcopy(table)\n",
        "  for i in range(0,6):\n",
        "    for j in range(0,6):\n",
        "      if maze[i][j] == 'L1' or maze[i][j] == 'L2' or maze[i][j] == 'L3':\n",
        "        maze[i][j] = 1\n",
        "\n",
        "  # assign weight around patients\n",
        "  for i in range(0,6):\n",
        "    for j in range(0,6):\n",
        "      point = (i,j)\n",
        "      if point not in points:\n",
        "        x = point[0]\n",
        "        y = point[1]\n",
        "        count = 0\n",
        "        for row in range(x-1,x+2):\n",
        "          for col in range(y-1,y+2):\n",
        "            if row > -1 and col > -1 and row < 6 and col < 6: # in range 0 - 5\n",
        "              if (row,col) != (x,y):\n",
        "                if table[row][col] == 'L1':\n",
        "                  count = count + 1\n",
        "                elif table[row][col] == 'L2':\n",
        "                  count = count + 5\n",
        "                elif table[row][col] == 'L3':\n",
        "                  count = count + 25\n",
        "        table[x][y] = count\n",
        "  \n",
        "  # Create Initial_table\n",
        "  initial_table = deepcopy(table)\n",
        "\n",
        "  # start path with point (5,2)\n",
        "  path = [(5,2)]\n",
        "\n",
        "  # loop until every area in the table is equal to 0, it means that it visited all patients\n",
        "  while True:\n",
        "    if check_zero(initial_table) == 0:\n",
        "      break\n",
        "    else:\n",
        "      next_step = get_stop_point_and_clear_weight_table(initial_table)\n",
        "      min_index = find_min_index(next_step, path[-1]) # the index that has the shortest distance from the start to the max weight point\n",
        "      initial_table = next_step[min_index][1]\n",
        "      path.append(next_step[min_index][0])\n",
        "\n",
        "  lastpoint = check_back_point(maze, path[-1])\n",
        "  path.append(lastpoint)\n",
        "\n",
        "  return path, table, maze"
      ],
      "metadata": {
        "id": "t4nJqf8EFLZy"
      },
      "execution_count": null,
      "outputs": []
    },
    {
      "cell_type": "code",
      "source": [
        "path, table, maze = shortest_path_with_priority(patients, points)"
      ],
      "metadata": {
        "colab": {
          "base_uri": "https://localhost:8080/"
        },
        "id": "Ta155kRYG8p9",
        "outputId": "5df7c0ed-2f38-4d83-d4b9-d3961c63ef4c"
      },
      "execution_count": null,
      "outputs": [
        {
          "output_type": "stream",
          "name": "stdout",
          "text": [
            "max weight's postions is/are [(0, 3), (1, 1), (1, 2), (1, 3)]\n",
            "--(0, 3)--\n",
            "degree of patient: L3, position of patient: (0, 2)\n",
            "degree of patient: L2, position of patient: (1, 4)\n",
            "-  --  --  --  --  -\n",
            "0  0   L3  0   0   0\n",
            "5  5   5   0   L2  0\n",
            "5  L2  6   1   1   0\n",
            "5  10  11  L1  1   0\n",
            "0  5   L2  6   1   0\n",
            "0  5   5   5   0   0\n",
            "-  --  --  --  --  -\n",
            "--(1, 1)--\n",
            "degree of patient: L3, position of patient: (0, 2)\n",
            "degree of patient: L2, position of patient: (2, 1)\n",
            "-  --  --  --  --  -\n",
            "0  0   L3  5   5   5\n",
            "0  0   0   5   L2  5\n",
            "0  L2  1   6   6   5\n",
            "0  5   6   L1  1   0\n",
            "0  5   L2  6   1   0\n",
            "0  5   5   5   0   0\n",
            "-  --  --  --  --  -\n",
            "--(1, 2)--\n",
            "degree of patient: L3, position of patient: (0, 2)\n",
            "degree of patient: L2, position of patient: (2, 1)\n",
            "-  --  --  --  --  -\n",
            "0  0   L3  5   5   5\n",
            "0  0   0   5   L2  5\n",
            "0  L2  1   6   6   5\n",
            "0  5   6   L1  1   0\n",
            "0  5   L2  6   1   0\n",
            "0  5   5   5   0   0\n",
            "-  --  --  --  --  -\n",
            "--(1, 3)--\n",
            "degree of patient: L3, position of patient: (0, 2)\n",
            "degree of patient: L2, position of patient: (1, 4)\n",
            "-  --  --  --  --  -\n",
            "0  0   L3  0   0   0\n",
            "5  5   5   0   L2  0\n",
            "5  L2  6   1   1   0\n",
            "5  10  11  L1  1   0\n",
            "0  5   L2  6   1   0\n",
            "0  5   5   5   0   0\n",
            "-  --  --  --  --  -\n",
            "max weight's postions is/are [(2, 3), (2, 4), (3, 2), (4, 3)]\n",
            "--(2, 3)--\n",
            "degree of patient: L2, position of patient: (1, 4)\n",
            "degree of patient: L1, position of patient: (3, 3)\n",
            "-  --  --  --  --  -\n",
            "0  0   L3  0   0   0\n",
            "0  0   0   0   L2  0\n",
            "0  L2  0   0   0   0\n",
            "0  5   5   L1  0   0\n",
            "0  5   L2  5   0   0\n",
            "0  5   5   5   0   0\n",
            "-  --  --  --  --  -\n",
            "--(2, 4)--\n",
            "degree of patient: L2, position of patient: (1, 4)\n",
            "degree of patient: L1, position of patient: (3, 3)\n",
            "-  --  --  --  --  -\n",
            "0  0   L3  0   0   0\n",
            "0  0   0   0   L2  0\n",
            "0  L2  0   0   0   0\n",
            "0  5   5   L1  0   0\n",
            "0  5   L2  5   0   0\n",
            "0  5   5   5   0   0\n",
            "-  --  --  --  --  -\n",
            "--(3, 2)--\n",
            "degree of patient: L2, position of patient: (2, 1)\n",
            "degree of patient: L1, position of patient: (3, 3)\n",
            "degree of patient: L2, position of patient: (4, 2)\n",
            "-  --  --  --  --  -\n",
            "0  0   L3  5   5   5\n",
            "0  0   0   5   L2  5\n",
            "0  L2  0   5   5   5\n",
            "0  0   0   L1  0   0\n",
            "0  0   L2  0   0   0\n",
            "0  0   0   0   0   0\n",
            "-  --  --  --  --  -\n",
            "--(4, 3)--\n",
            "degree of patient: L1, position of patient: (3, 3)\n",
            "degree of patient: L2, position of patient: (4, 2)\n",
            "-  --  --  --  --  -\n",
            "0  0   L3  5   5   5\n",
            "0  0   0   5   L2  5\n",
            "0  L2  0   5   5   5\n",
            "0  0   0   L1  0   0\n",
            "0  0   L2  0   0   0\n",
            "0  0   0   0   0   0\n",
            "-  --  --  --  --  -\n",
            "max weight's postions is/are [(3, 1), (3, 2), (4, 1), (4, 3), (5, 1), (5, 2), (5, 3)]\n",
            "--(3, 1)--\n",
            "degree of patient: L2, position of patient: (2, 1)\n",
            "degree of patient: L2, position of patient: (4, 2)\n",
            "-  --  --  --  --  -\n",
            "0  0   L3  0   0   0\n",
            "0  0   0   0   L2  0\n",
            "0  L2  0   0   0   0\n",
            "0  0   0   L1  0   0\n",
            "0  0   L2  0   0   0\n",
            "0  0   0   0   0   0\n",
            "-  --  --  --  --  -\n",
            "--(3, 2)--\n",
            "degree of patient: L2, position of patient: (2, 1)\n",
            "degree of patient: L1, position of patient: (3, 3)\n",
            "degree of patient: L2, position of patient: (4, 2)\n",
            "-  --  --  --  --  -\n",
            "0  0   L3  0   0   0\n",
            "0  0   0   0   L2  0\n",
            "0  L2  0   0   0   0\n",
            "0  0   0   L1  0   0\n",
            "0  0   L2  4   0   0\n",
            "0  0   0   0   0   0\n",
            "-  --  --  --  --  -\n",
            "--(4, 1)--\n",
            "degree of patient: L2, position of patient: (4, 2)\n",
            "-  --  --  --  --  -\n",
            "0  0   L3  0   0   0\n",
            "0  0   0   0   L2  0\n",
            "0  L2  0   0   0   0\n",
            "0  0   0   L1  0   0\n",
            "0  0   L2  0   0   0\n",
            "0  0   0   0   0   0\n",
            "-  --  --  --  --  -\n",
            "--(4, 3)--\n",
            "degree of patient: L1, position of patient: (3, 3)\n",
            "degree of patient: L2, position of patient: (4, 2)\n",
            "-  --  --  --  --  -\n",
            "0  0   L3  0   0   0\n",
            "0  0   0   0   L2  0\n",
            "0  L2  0   0   0   0\n",
            "0  0   4   L1  0   0\n",
            "0  0   L2  4   0   0\n",
            "0  0   0   0   0   0\n",
            "-  --  --  --  --  -\n",
            "--(5, 1)--\n",
            "degree of patient: L2, position of patient: (4, 2)\n",
            "-  --  --  --  --  -\n",
            "0  0   L3  0   0   0\n",
            "0  0   0   0   L2  0\n",
            "0  L2  0   0   0   0\n",
            "0  0   0   L1  0   0\n",
            "0  0   L2  0   0   0\n",
            "0  0   0   0   0   0\n",
            "-  --  --  --  --  -\n",
            "--(5, 2)--\n",
            "degree of patient: L2, position of patient: (4, 2)\n",
            "-  --  --  --  --  -\n",
            "0  0   L3  0   0   0\n",
            "0  0   0   0   L2  0\n",
            "0  L2  0   0   0   0\n",
            "0  0   0   L1  0   0\n",
            "0  0   L2  0   0   0\n",
            "0  0   0   0   0   0\n",
            "-  --  --  --  --  -\n",
            "--(5, 3)--\n",
            "degree of patient: L2, position of patient: (4, 2)\n",
            "-  --  --  --  --  -\n",
            "0  0   L3  0   0   0\n",
            "0  0   0   0   L2  0\n",
            "0  L2  0   0   0   0\n",
            "0  0   0   L1  0   0\n",
            "0  0   L2  0   0   0\n",
            "0  0   0   0   0   0\n",
            "-  --  --  --  --  -\n",
            "max weight's postions is/are [(4, 3)]\n",
            "--(4, 3)--\n",
            "degree of patient: L1, position of patient: (3, 3)\n",
            "degree of patient: L2, position of patient: (4, 2)\n",
            "-  --  --  --  --  -\n",
            "0  0   L3  0   0   0\n",
            "0  0   0   0   L2  0\n",
            "0  L2  0   0   0   0\n",
            "0  0   0   L1  0   0\n",
            "0  0   L2  3   0   0\n",
            "0  0   0   0   0   0\n",
            "-  --  --  --  --  -\n",
            "max weight's postions is/are [(4, 3)]\n",
            "--(4, 3)--\n",
            "degree of patient: L1, position of patient: (3, 3)\n",
            "degree of patient: L2, position of patient: (4, 2)\n",
            "-  --  --  --  --  -\n",
            "0  0   L3  0   0   0\n",
            "0  0   0   0   L2  0\n",
            "0  L2  0   0   0   0\n",
            "0  0   0   L1  0   0\n",
            "0  0   L2  2   0   0\n",
            "0  0   0   0   0   0\n",
            "-  --  --  --  --  -\n",
            "max weight's postions is/are [(4, 3)]\n",
            "--(4, 3)--\n",
            "degree of patient: L1, position of patient: (3, 3)\n",
            "degree of patient: L2, position of patient: (4, 2)\n",
            "-  --  --  --  --  -\n",
            "0  0   L3  0   0   0\n",
            "0  0   0   0   L2  0\n",
            "0  L2  0   0   0   0\n",
            "0  0   0   L1  0   0\n",
            "0  0   L2  1   0   0\n",
            "0  0   0   0   0   0\n",
            "-  --  --  --  --  -\n",
            "max weight's postions is/are [(4, 3)]\n",
            "--(4, 3)--\n",
            "degree of patient: L1, position of patient: (3, 3)\n",
            "degree of patient: L2, position of patient: (4, 2)\n",
            "-  --  --  --  --  -\n",
            "0  0   L3  0   0   0\n",
            "0  0   0   0   L2  0\n",
            "0  L2  0   0   0   0\n",
            "0  0   0   L1  0   0\n",
            "0  0   L2  0   0   0\n",
            "0  0   0   0   0   0\n",
            "-  --  --  --  --  -\n"
          ]
        }
      ]
    },
    {
      "cell_type": "code",
      "source": [
        "path"
      ],
      "metadata": {
        "colab": {
          "base_uri": "https://localhost:8080/"
        },
        "id": "DQF715bdICjZ",
        "outputId": "7fec110a-0dfa-40c2-ccab-39e435bbc43a"
      },
      "execution_count": null,
      "outputs": [
        {
          "output_type": "execute_result",
          "data": {
            "text/plain": [
              "[(5, 2), (1, 1), (2, 3), (3, 2), (4, 3), (4, 3), (4, 3), (4, 3), (5, 2)]"
            ]
          },
          "metadata": {},
          "execution_count": 128
        }
      ]
    },
    {
      "cell_type": "code",
      "source": [
        "table"
      ],
      "metadata": {
        "colab": {
          "base_uri": "https://localhost:8080/"
        },
        "id": "cE0VjCVbIDkq",
        "outputId": "d887652a-b851-4e13-b69f-d0b3240cd79f"
      },
      "execution_count": null,
      "outputs": [
        {
          "output_type": "execute_result",
          "data": {
            "text/plain": [
              "[[0, 0, 0, 0, 5, 'L2'],\n",
              " [0, 0, 5, 5, 35, 30],\n",
              " [0, 0, 5, 'L2', 35, 'L3'],\n",
              " [0, 0, 5, 10, 'L2', 30],\n",
              " [0, 0, 0, 5, 10, 10],\n",
              " [0, 0, 0, 0, 5, 'L2']]"
            ]
          },
          "metadata": {},
          "execution_count": 54
        }
      ]
    },
    {
      "cell_type": "code",
      "source": [
        "maze"
      ],
      "metadata": {
        "colab": {
          "base_uri": "https://localhost:8080/"
        },
        "id": "YOa2rGJnIDh_",
        "outputId": "4c6942ec-e81e-4d97-f8b5-3e29e58f5e6c"
      },
      "execution_count": null,
      "outputs": [
        {
          "output_type": "execute_result",
          "data": {
            "text/plain": [
              "[[0, 0, 0, 0, 0, 1],\n",
              " [0, 0, 0, 0, 0, 0],\n",
              " [0, 0, 0, 1, 0, 1],\n",
              " [0, 0, 0, 0, 1, 0],\n",
              " [0, 0, 0, 0, 0, 0],\n",
              " [0, 0, 0, 0, 0, 1]]"
            ]
          },
          "metadata": {},
          "execution_count": 55
        }
      ]
    },
    {
      "cell_type": "markdown",
      "source": [
        "# Post processing"
      ],
      "metadata": {
        "id": "PlmSX5e7DMyW"
      }
    },
    {
      "cell_type": "markdown",
      "source": [
        "### find path from start to end at each pair of path "
      ],
      "metadata": {
        "id": "vWQ8txHwLHIs"
      }
    },
    {
      "cell_type": "code",
      "source": [
        "path"
      ],
      "metadata": {
        "colab": {
          "base_uri": "https://localhost:8080/"
        },
        "id": "Le3qQXXoK-Od",
        "outputId": "bb008dcf-c894-42bc-d4d7-7b1729a697fe"
      },
      "execution_count": null,
      "outputs": [
        {
          "output_type": "execute_result",
          "data": {
            "text/plain": [
              "[(5, 2), (1, 1), (2, 3), (3, 2), (4, 3), (4, 3), (4, 3), (4, 3)]"
            ]
          },
          "metadata": {},
          "execution_count": 102
        }
      ]
    },
    {
      "cell_type": "code",
      "source": [
        "maze"
      ],
      "metadata": {
        "colab": {
          "base_uri": "https://localhost:8080/"
        },
        "id": "4eA4D33BLzvx",
        "outputId": "262270a3-4033-45bb-a1ea-55af5895015a"
      },
      "execution_count": null,
      "outputs": [
        {
          "output_type": "execute_result",
          "data": {
            "text/plain": [
              "[[0, 0, 0, 0, 0, 1],\n",
              " [0, 0, 0, 0, 0, 0],\n",
              " [0, 0, 0, 1, 0, 1],\n",
              " [0, 0, 0, 0, 1, 0],\n",
              " [0, 0, 0, 0, 0, 0],\n",
              " [0, 0, 0, 0, 0, 1]]"
            ]
          },
          "metadata": {},
          "execution_count": 57
        }
      ]
    },
    {
      "cell_type": "code",
      "source": [
        "true_path = []\n",
        "\n",
        "patient_points = deepcopy(points)\n",
        "\n",
        "for i in range(0, len(path) - 1):\n",
        "  start = path[i]\n",
        "  end = path[i+1]\n",
        "  #print(start, end)\n",
        "  path_pair = astar(maze, start, end)\n",
        "  patients_pos = patients_healed_positions(path_pair[-1])\n",
        "  # print(patients_pos)\n",
        "\n",
        "  for j in patients_pos:\n",
        "    if j in patient_points:\n",
        "      path_pair_copy = deepcopy(path_pair)\n",
        "      path_pair_copy.append(j)\n",
        "      print(path_pair_copy)\n",
        "      true_path.append(path_pair_copy)\n",
        "    \n",
        "  # drop patients out of patient_points\n",
        "  for k in patients_pos:\n",
        "    try:\n",
        "      patient_points.remove(k)\n",
        "    except:\n",
        "      pass\n",
        "\n",
        "# add last path to the beginning point\n",
        "start = path[-2]\n",
        "end = path[-1]\n",
        "#print(start, end)\n",
        "path_pair = astar(maze, start, end)\n",
        "true_path.append(path_pair)\n",
        "\n",
        "print()\n",
        "true_path"
      ],
      "metadata": {
        "colab": {
          "base_uri": "https://localhost:8080/"
        },
        "id": "1Lff9ZyzlRo8",
        "outputId": "a3074de5-f6f7-48fb-a56b-c26427f69fdc"
      },
      "execution_count": null,
      "outputs": [
        {
          "output_type": "stream",
          "name": "stdout",
          "text": [
            "degree of patient: L2, position of patient: (2, 3)\n",
            "degree of patient: L3, position of patient: (2, 5)\n",
            "degree of patient: L2, position of patient: (3, 4)\n",
            "[(5, 2), (4, 3), (3, 3), (2, 4), (2, 3)]\n",
            "[(5, 2), (4, 3), (3, 3), (2, 4), (2, 5)]\n",
            "[(5, 2), (4, 3), (3, 3), (2, 4), (3, 4)]\n",
            "degree of patient: L2, position of patient: (0, 5)\n",
            "degree of patient: L2, position of patient: (2, 3)\n",
            "degree of patient: L3, position of patient: (2, 5)\n",
            "[(2, 4), (1, 4), (0, 5)]\n",
            "degree of patient: L2, position of patient: (3, 4)\n",
            "degree of patient: L2, position of patient: (5, 5)\n",
            "[(1, 4), (2, 4), (3, 3), (4, 4), (5, 5)]\n",
            "\n"
          ]
        },
        {
          "output_type": "execute_result",
          "data": {
            "text/plain": [
              "[[(5, 2), (4, 3), (3, 3), (2, 4), (2, 3)],\n",
              " [(5, 2), (4, 3), (3, 3), (2, 4), (2, 5)],\n",
              " [(5, 2), (4, 3), (3, 3), (2, 4), (3, 4)],\n",
              " [(2, 4), (1, 4), (0, 5)],\n",
              " [(1, 4), (2, 4), (3, 3), (4, 4), (5, 5)],\n",
              " [(4, 4), (5, 3)]]"
            ]
          },
          "metadata": {},
          "execution_count": 71
        }
      ]
    },
    {
      "cell_type": "code",
      "source": [
        "true_path[0][:-1]"
      ],
      "metadata": {
        "colab": {
          "base_uri": "https://localhost:8080/"
        },
        "id": "wBpZkRhCCpIK",
        "outputId": "2bd1f153-807d-495d-9fd4-a07d41c83ddc"
      },
      "execution_count": null,
      "outputs": [
        {
          "output_type": "execute_result",
          "data": {
            "text/plain": [
              "[(5, 2), (4, 3), (3, 3), (2, 4)]"
            ]
          },
          "metadata": {},
          "execution_count": 72
        }
      ]
    },
    {
      "cell_type": "code",
      "source": [
        "for i in range(len(true_path)):\n",
        "  path_1 = true_path[i][:-1]\n",
        "  #path_2 = true_path[i+1][:-1]\n",
        "  for j in range(len(true_path)):\n",
        "    if j != i:\n",
        "      if path_1 == true_path[j][:-1]:\n",
        "        true_path[j] = true_path[j][-2:]"
      ],
      "metadata": {
        "id": "2T_yW9O_we2T"
      },
      "execution_count": null,
      "outputs": []
    },
    {
      "cell_type": "code",
      "source": [
        "true_path"
      ],
      "metadata": {
        "colab": {
          "base_uri": "https://localhost:8080/"
        },
        "id": "wGgTO9666E-k",
        "outputId": "e705dc52-f83c-4c32-da4f-c2ce105c9260"
      },
      "execution_count": null,
      "outputs": [
        {
          "output_type": "execute_result",
          "data": {
            "text/plain": [
              "[[(5, 2), (4, 3), (3, 3), (2, 4), (2, 3)],\n",
              " [(2, 4), (2, 5)],\n",
              " [(2, 4), (3, 4)],\n",
              " [(2, 4), (1, 4), (0, 5)],\n",
              " [(1, 4), (2, 4), (3, 3), (4, 4), (5, 5)],\n",
              " [(4, 4), (5, 3)]]"
            ]
          },
          "metadata": {},
          "execution_count": 74
        }
      ]
    },
    {
      "cell_type": "markdown",
      "source": [
        "เติมทางเดิน"
      ],
      "metadata": {
        "id": "BA4psjd21JhU"
      }
    },
    {
      "cell_type": "code",
      "source": [
        "fill_path_in = [(10,2),(9,2),(8,2),(7,2),(6,2)]\n",
        "fill_path_out = [(6,2), (7,2), (8,2), (9,2), (10,2)]\n",
        "true_path[0] = fill_path_in + true_path[0]\n",
        "true_path[-1] = true_path[-1] + fill_path_out\n",
        "\n",
        "true_path"
      ],
      "metadata": {
        "colab": {
          "base_uri": "https://localhost:8080/"
        },
        "id": "QyWkB4wHxp_l",
        "outputId": "92e2a48c-0426-4569-fbc2-7c3f8423669f"
      },
      "execution_count": null,
      "outputs": [
        {
          "output_type": "execute_result",
          "data": {
            "text/plain": [
              "[[(10, 2),\n",
              "  (9, 2),\n",
              "  (8, 2),\n",
              "  (7, 2),\n",
              "  (6, 2),\n",
              "  (5, 2),\n",
              "  (4, 3),\n",
              "  (3, 3),\n",
              "  (2, 4),\n",
              "  (2, 3)],\n",
              " [(2, 4), (2, 5)],\n",
              " [(2, 4), (3, 4)],\n",
              " [(2, 4), (1, 4), (0, 5)],\n",
              " [(1, 4), (2, 4), (3, 3), (4, 4), (5, 5)],\n",
              " [(4, 4), (5, 3), (6, 2), (7, 2), (8, 2), (9, 2), (10, 2)]]"
            ]
          },
          "metadata": {},
          "execution_count": 75
        }
      ]
    },
    {
      "cell_type": "markdown",
      "source": [
        "เปลี่ยน tuple เป็น list"
      ],
      "metadata": {
        "id": "0BojItYT4Jp2"
      }
    },
    {
      "cell_type": "code",
      "source": [
        "for i in range(len(true_path)):\n",
        "  for j in range(len(true_path[i])):\n",
        "    true_path[i][j] = list(true_path[i][j])\n",
        "true_path"
      ],
      "metadata": {
        "colab": {
          "base_uri": "https://localhost:8080/"
        },
        "id": "OByMF1zh4MdR",
        "outputId": "aeaf0478-366f-4077-d8d1-4d0719f5d57c"
      },
      "execution_count": null,
      "outputs": [
        {
          "output_type": "execute_result",
          "data": {
            "text/plain": [
              "[[[10, 2],\n",
              "  [9, 2],\n",
              "  [8, 2],\n",
              "  [7, 2],\n",
              "  [6, 2],\n",
              "  [5, 2],\n",
              "  [4, 3],\n",
              "  [3, 3],\n",
              "  [2, 4],\n",
              "  [2, 3]],\n",
              " [[2, 4], [2, 5]],\n",
              " [[2, 4], [3, 4]],\n",
              " [[2, 4], [1, 4], [0, 5]],\n",
              " [[1, 4], [2, 4], [3, 3], [4, 4], [5, 5]],\n",
              " [[4, 4], [5, 3], [6, 2], [7, 2], [8, 2], [9, 2], [10, 2]]]"
            ]
          },
          "metadata": {},
          "execution_count": 76
        }
      ]
    },
    {
      "cell_type": "markdown",
      "source": [
        "เปลี่ยนแกน x"
      ],
      "metadata": {
        "id": "fXMuzLdL3XKg"
      }
    },
    {
      "cell_type": "code",
      "source": [
        "def patTranform(finalPath):\n",
        "  ppatPath = finalPath.copy()\n",
        "  for i in range(len(finalPath)):\n",
        "    for j in range(len(finalPath[i])):\n",
        "      # print(finalPath[i][j])\n",
        "      ppatPath[i][j][0] = abs(finalPath[i][j][0]-10)\n",
        "  return ppatPath"
      ],
      "metadata": {
        "id": "A6f90Q0a3WZl"
      },
      "execution_count": null,
      "outputs": []
    },
    {
      "cell_type": "code",
      "source": [
        "patTranform(true_path)"
      ],
      "metadata": {
        "colab": {
          "base_uri": "https://localhost:8080/"
        },
        "id": "sHdQCQS83kmF",
        "outputId": "5a35bc0f-7a91-4573-fff6-d9f32bacbb7e"
      },
      "execution_count": null,
      "outputs": [
        {
          "output_type": "execute_result",
          "data": {
            "text/plain": [
              "[[[0, 2],\n",
              "  [1, 2],\n",
              "  [2, 2],\n",
              "  [3, 2],\n",
              "  [4, 2],\n",
              "  [5, 2],\n",
              "  [6, 3],\n",
              "  [7, 3],\n",
              "  [8, 4],\n",
              "  [8, 3]],\n",
              " [[8, 4], [8, 5]],\n",
              " [[8, 4], [7, 4]],\n",
              " [[8, 4], [9, 4], [10, 5]],\n",
              " [[9, 4], [8, 4], [7, 3], [6, 4], [5, 5]],\n",
              " [[6, 4], [5, 3], [4, 2], [3, 2], [2, 2], [1, 2], [0, 2]]]"
            ]
          },
          "metadata": {},
          "execution_count": 78
        }
      ]
    },
    {
      "cell_type": "markdown",
      "source": [
        "<hr>"
      ],
      "metadata": {
        "id": "E8wTuXmo0xiV"
      }
    },
    {
      "cell_type": "code",
      "source": [
        "def pput_format(patients, points):\n",
        "  path, table, maze = shortest_path_with_priority(patients, points)\n",
        "\n",
        "  true_path = []\n",
        "\n",
        "  patient_points = deepcopy(points)\n",
        "\n",
        "  for i in range(0, len(path) - 1):\n",
        "    start = path[i]\n",
        "    end = path[i+1]\n",
        "    #print(start, end)\n",
        "    path_pair = astar(maze, start, end)\n",
        "    patients_pos = patients_healed_positions(path_pair[-1])\n",
        "    # print(patients_pos)\n",
        "\n",
        "    for j in patients_pos:\n",
        "      if j in patient_points:\n",
        "        path_pair_copy = deepcopy(path_pair)\n",
        "        path_pair_copy.append(j)\n",
        "        print(path_pair_copy)\n",
        "        true_path.append(path_pair_copy)\n",
        "      \n",
        "    # drop patients out of patient_points\n",
        "    for k in patients_pos:\n",
        "      try:\n",
        "        patient_points.remove(k)\n",
        "      except:\n",
        "        pass\n",
        "\n",
        "  # add last path to the beginning point\n",
        "  start = path[-2]\n",
        "  end = path[-1]\n",
        "  #print(start, end)\n",
        "  path_pair = astar(maze, start, end)\n",
        "  true_path.append(path_pair)\n",
        "\n",
        "  # last postprocess\n",
        "  for i in range(len(true_path)-1):\n",
        "    path_1 = true_path[i][:-1]\n",
        "    path_2 = true_path[i+1][:-1]\n",
        "    if path_1 == path_2:\n",
        "      true_path[i+1] = true_path[i+1][-2:]\n",
        "\n",
        "  return true_path"
      ],
      "metadata": {
        "id": "sj6eaFYHx7Lc"
      },
      "execution_count": null,
      "outputs": []
    },
    {
      "cell_type": "code",
      "source": [
        "pput_format(patients, points)"
      ],
      "metadata": {
        "colab": {
          "base_uri": "https://localhost:8080/",
          "height": 1000
        },
        "id": "owaVJrOByjDk",
        "outputId": "64a6fcf5-6a3e-40cb-8589-ecdd02c78b4b"
      },
      "execution_count": null,
      "outputs": [
        {
          "output_type": "stream",
          "name": "stdout",
          "text": [
            "max weight's postions is/are [(0, 4), (0, 5), (1, 4), (2, 4), (2, 5)]\n",
            "--(0, 4)--\n",
            "degree of patient: L3, position of patient: (1, 5)\n",
            "--  --  --  -  --  --\n",
            "L1   6  0   0  0   0\n",
            "L2   6  0   0  0   L3\n",
            "5   10  5   5  0   0\n",
            "0    5  L2  5  0   0\n",
            "0    5  5   6  1   1\n",
            "0    0  0   1  L1  1\n",
            "--  --  --  -  --  --\n",
            "--(0, 5)--\n",
            "degree of patient: L3, position of patient: (1, 5)\n",
            "--  --  --  -  --  --\n",
            "L1   6  0   0  0   0\n",
            "L2   6  0   0  0   L3\n",
            "5   10  5   5  0   0\n",
            "0    5  L2  5  0   0\n",
            "0    5  5   6  1   1\n",
            "0    0  0   1  L1  1\n",
            "--  --  --  -  --  --\n",
            "--(1, 4)--\n",
            "degree of patient: L3, position of patient: (1, 5)\n",
            "--  --  --  -  --  --\n",
            "L1   6  0   0  0   0\n",
            "L2   6  0   0  0   L3\n",
            "5   10  5   5  0   0\n",
            "0    5  L2  5  0   0\n",
            "0    5  5   6  1   1\n",
            "0    0  0   1  L1  1\n",
            "--  --  --  -  --  --\n",
            "--(2, 4)--\n",
            "degree of patient: L3, position of patient: (1, 5)\n",
            "--  --  --  -  --  --\n",
            "L1   6  0   0  0   0\n",
            "L2   6  0   0  0   L3\n",
            "5   10  5   5  0   0\n",
            "0    5  L2  5  0   0\n",
            "0    5  5   6  1   1\n",
            "0    0  0   1  L1  1\n",
            "--  --  --  -  --  --\n",
            "--(2, 5)--\n",
            "degree of patient: L3, position of patient: (1, 5)\n",
            "--  --  --  -  --  --\n",
            "L1   6  0   0  0   0\n",
            "L2   6  0   0  0   L3\n",
            "5   10  5   5  0   0\n",
            "0    5  L2  5  0   0\n",
            "0    5  5   6  1   1\n",
            "0    0  0   1  L1  1\n",
            "--  --  --  -  --  --\n",
            "max weight's postions is/are [(2, 1)]\n",
            "--(2, 1)--\n",
            "degree of patient: L2, position of patient: (1, 0)\n",
            "degree of patient: L2, position of patient: (3, 2)\n",
            "--  -  --  -  --  --\n",
            "L1  1  0   0  0   0\n",
            "L2  1  0   0  0   L3\n",
            "0   0  0   0  0   0\n",
            "0   0  L2  0  0   0\n",
            "0   0  0   1  1   1\n",
            "0   0  0   1  L1  1\n",
            "--  -  --  -  --  --\n",
            "max weight's postions is/are [(0, 1), (1, 1), (4, 3), (4, 4), (4, 5), (5, 3), (5, 5)]\n",
            "--(0, 1)--\n",
            "degree of patient: L1, position of patient: (0, 0)\n",
            "degree of patient: L2, position of patient: (1, 0)\n",
            "--  -  --  -  --  --\n",
            "L1  0  0   0  0   0\n",
            "L2  0  0   0  0   L3\n",
            "0   0  0   0  0   0\n",
            "0   0  L2  0  0   0\n",
            "0   0  0   1  1   1\n",
            "0   0  0   1  L1  1\n",
            "--  -  --  -  --  --\n",
            "--(1, 1)--\n",
            "degree of patient: L1, position of patient: (0, 0)\n",
            "degree of patient: L2, position of patient: (1, 0)\n",
            "--  -  --  -  --  --\n",
            "L1  0  0   0  0   0\n",
            "L2  0  0   0  0   L3\n",
            "0   0  0   0  0   0\n",
            "0   0  L2  0  0   0\n",
            "0   0  0   1  1   1\n",
            "0   0  0   1  L1  1\n",
            "--  -  --  -  --  --\n",
            "--(4, 3)--\n",
            "degree of patient: L2, position of patient: (3, 2)\n",
            "degree of patient: L1, position of patient: (5, 4)\n",
            "--  -  --  -  --  --\n",
            "L1  1  0   0  0   0\n",
            "L2  1  0   0  0   L3\n",
            "0   0  0   0  0   0\n",
            "0   0  L2  0  0   0\n",
            "0   0  0   0  0   0\n",
            "0   0  0   0  L1  0\n",
            "--  -  --  -  --  --\n",
            "--(4, 4)--\n",
            "degree of patient: L1, position of patient: (5, 4)\n",
            "--  -  --  -  --  --\n",
            "L1  1  0   0  0   0\n",
            "L2  1  0   0  0   L3\n",
            "0   0  0   0  0   0\n",
            "0   0  L2  0  0   0\n",
            "0   0  0   0  0   0\n",
            "0   0  0   0  L1  0\n",
            "--  -  --  -  --  --\n",
            "--(4, 5)--\n",
            "degree of patient: L1, position of patient: (5, 4)\n",
            "--  -  --  -  --  --\n",
            "L1  1  0   0  0   0\n",
            "L2  1  0   0  0   L3\n",
            "0   0  0   0  0   0\n",
            "0   0  L2  0  0   0\n",
            "0   0  0   0  0   0\n",
            "0   0  0   0  L1  0\n",
            "--  -  --  -  --  --\n",
            "--(5, 3)--\n",
            "degree of patient: L1, position of patient: (5, 4)\n",
            "--  -  --  -  --  --\n",
            "L1  1  0   0  0   0\n",
            "L2  1  0   0  0   L3\n",
            "0   0  0   0  0   0\n",
            "0   0  L2  0  0   0\n",
            "0   0  0   0  0   0\n",
            "0   0  0   0  L1  0\n",
            "--  -  --  -  --  --\n",
            "--(5, 5)--\n",
            "degree of patient: L1, position of patient: (5, 4)\n",
            "--  -  --  -  --  --\n",
            "L1  1  0   0  0   0\n",
            "L2  1  0   0  0   L3\n",
            "0   0  0   0  0   0\n",
            "0   0  L2  0  0   0\n",
            "0   0  0   0  0   0\n",
            "0   0  0   0  L1  0\n",
            "--  -  --  -  --  --\n",
            "max weight's postions is/are [(4, 3), (4, 4), (4, 5), (5, 3), (5, 5)]\n",
            "--(4, 3)--\n",
            "degree of patient: L2, position of patient: (3, 2)\n",
            "degree of patient: L1, position of patient: (5, 4)\n",
            "--  -  --  -  --  --\n",
            "L1  0  0   0  0   0\n",
            "L2  0  0   0  0   L3\n",
            "0   0  0   0  0   0\n",
            "0   0  L2  0  0   0\n",
            "0   0  0   0  0   0\n",
            "0   0  0   0  L1  0\n",
            "--  -  --  -  --  --\n",
            "--(4, 4)--\n",
            "degree of patient: L1, position of patient: (5, 4)\n",
            "--  -  --  -  --  --\n",
            "L1  0  0   0  0   0\n",
            "L2  0  0   0  0   L3\n",
            "0   0  0   0  0   0\n",
            "0   0  L2  0  0   0\n",
            "0   0  0   0  0   0\n",
            "0   0  0   0  L1  0\n",
            "--  -  --  -  --  --\n",
            "--(4, 5)--\n",
            "degree of patient: L1, position of patient: (5, 4)\n",
            "--  -  --  -  --  --\n",
            "L1  0  0   0  0   0\n",
            "L2  0  0   0  0   L3\n",
            "0   0  0   0  0   0\n",
            "0   0  L2  0  0   0\n",
            "0   0  0   0  0   0\n",
            "0   0  0   0  L1  0\n",
            "--  -  --  -  --  --\n",
            "--(5, 3)--\n",
            "degree of patient: L1, position of patient: (5, 4)\n",
            "--  -  --  -  --  --\n",
            "L1  0  0   0  0   0\n",
            "L2  0  0   0  0   L3\n",
            "0   0  0   0  0   0\n",
            "0   0  L2  0  0   0\n",
            "0   0  0   0  0   0\n",
            "0   0  0   0  L1  0\n",
            "--  -  --  -  --  --\n",
            "--(5, 5)--\n",
            "degree of patient: L1, position of patient: (5, 4)\n",
            "--  -  --  -  --  --\n",
            "L1  0  0   0  0   0\n",
            "L2  0  0   0  0   L3\n",
            "0   0  0   0  0   0\n",
            "0   0  L2  0  0   0\n",
            "0   0  0   0  0   0\n",
            "0   0  0   0  L1  0\n",
            "--  -  --  -  --  --\n"
          ]
        },
        {
          "output_type": "error",
          "ename": "KeyboardInterrupt",
          "evalue": "ignored",
          "traceback": [
            "\u001b[0;31m---------------------------------------------------------------------------\u001b[0m",
            "\u001b[0;31mKeyboardInterrupt\u001b[0m                         Traceback (most recent call last)",
            "\u001b[0;32m<ipython-input-110-8f4206e89a0e>\u001b[0m in \u001b[0;36m<module>\u001b[0;34m()\u001b[0m\n\u001b[0;32m----> 1\u001b[0;31m \u001b[0mpput_format\u001b[0m\u001b[0;34m(\u001b[0m\u001b[0mpatients\u001b[0m\u001b[0;34m,\u001b[0m \u001b[0mpoints\u001b[0m\u001b[0;34m)\u001b[0m\u001b[0;34m\u001b[0m\u001b[0;34m\u001b[0m\u001b[0m\n\u001b[0m",
            "\u001b[0;32m<ipython-input-109-610266903685>\u001b[0m in \u001b[0;36mpput_format\u001b[0;34m(patients, points)\u001b[0m\n\u001b[1;32m      1\u001b[0m \u001b[0;32mdef\u001b[0m \u001b[0mpput_format\u001b[0m\u001b[0;34m(\u001b[0m\u001b[0mpatients\u001b[0m\u001b[0;34m,\u001b[0m \u001b[0mpoints\u001b[0m\u001b[0;34m)\u001b[0m\u001b[0;34m:\u001b[0m\u001b[0;34m\u001b[0m\u001b[0;34m\u001b[0m\u001b[0m\n\u001b[0;32m----> 2\u001b[0;31m   \u001b[0mpath\u001b[0m\u001b[0;34m,\u001b[0m \u001b[0mtable\u001b[0m\u001b[0;34m,\u001b[0m \u001b[0mmaze\u001b[0m \u001b[0;34m=\u001b[0m \u001b[0mshortest_path_with_priority\u001b[0m\u001b[0;34m(\u001b[0m\u001b[0mpatients\u001b[0m\u001b[0;34m,\u001b[0m \u001b[0mpoints\u001b[0m\u001b[0;34m)\u001b[0m\u001b[0;34m\u001b[0m\u001b[0;34m\u001b[0m\u001b[0m\n\u001b[0m\u001b[1;32m      3\u001b[0m \u001b[0;34m\u001b[0m\u001b[0m\n\u001b[1;32m      4\u001b[0m   \u001b[0mtrue_path\u001b[0m \u001b[0;34m=\u001b[0m \u001b[0;34m[\u001b[0m\u001b[0;34m]\u001b[0m\u001b[0;34m\u001b[0m\u001b[0;34m\u001b[0m\u001b[0m\n\u001b[1;32m      5\u001b[0m \u001b[0;34m\u001b[0m\u001b[0m\n",
            "\u001b[0;32m<ipython-input-67-597a8220cccd>\u001b[0m in \u001b[0;36mshortest_path_with_priority\u001b[0;34m(patients, points)\u001b[0m\n\u001b[1;32m     63\u001b[0m       \u001b[0mpath\u001b[0m\u001b[0;34m.\u001b[0m\u001b[0mappend\u001b[0m\u001b[0;34m(\u001b[0m\u001b[0mnext_step\u001b[0m\u001b[0;34m[\u001b[0m\u001b[0mmin_index\u001b[0m\u001b[0;34m]\u001b[0m\u001b[0;34m[\u001b[0m\u001b[0;36m0\u001b[0m\u001b[0;34m]\u001b[0m\u001b[0;34m)\u001b[0m\u001b[0;34m\u001b[0m\u001b[0;34m\u001b[0m\u001b[0m\n\u001b[1;32m     64\u001b[0m \u001b[0;34m\u001b[0m\u001b[0m\n\u001b[0;32m---> 65\u001b[0;31m   \u001b[0mlastpoint\u001b[0m \u001b[0;34m=\u001b[0m \u001b[0mcheck_back_point\u001b[0m\u001b[0;34m(\u001b[0m\u001b[0mmaze\u001b[0m\u001b[0;34m,\u001b[0m \u001b[0mpath\u001b[0m\u001b[0;34m[\u001b[0m\u001b[0;34m-\u001b[0m\u001b[0;36m1\u001b[0m\u001b[0;34m]\u001b[0m\u001b[0;34m)\u001b[0m\u001b[0;34m\u001b[0m\u001b[0;34m\u001b[0m\u001b[0m\n\u001b[0m\u001b[1;32m     66\u001b[0m   \u001b[0mpath\u001b[0m\u001b[0;34m.\u001b[0m\u001b[0mappend\u001b[0m\u001b[0;34m(\u001b[0m\u001b[0mlastpoint\u001b[0m\u001b[0;34m)\u001b[0m\u001b[0;34m\u001b[0m\u001b[0;34m\u001b[0m\u001b[0m\n\u001b[1;32m     67\u001b[0m \u001b[0;34m\u001b[0m\u001b[0m\n",
            "\u001b[0;32m<ipython-input-9-0bbfd09ebfe2>\u001b[0m in \u001b[0;36mcheck_back_point\u001b[0;34m(maze, lastpoint)\u001b[0m\n\u001b[1;32m      7\u001b[0m   \u001b[0;32mfor\u001b[0m \u001b[0mi\u001b[0m \u001b[0;32min\u001b[0m \u001b[0mends\u001b[0m\u001b[0;34m:\u001b[0m\u001b[0;34m\u001b[0m\u001b[0;34m\u001b[0m\u001b[0m\n\u001b[1;32m      8\u001b[0m     \u001b[0mend\u001b[0m \u001b[0;34m=\u001b[0m \u001b[0mi\u001b[0m\u001b[0;34m\u001b[0m\u001b[0;34m\u001b[0m\u001b[0m\n\u001b[0;32m----> 9\u001b[0;31m     \u001b[0mpath\u001b[0m \u001b[0;34m=\u001b[0m \u001b[0mastar\u001b[0m\u001b[0;34m(\u001b[0m\u001b[0mmaze\u001b[0m\u001b[0;34m,\u001b[0m \u001b[0mstart\u001b[0m\u001b[0;34m,\u001b[0m \u001b[0mend\u001b[0m\u001b[0;34m)\u001b[0m\u001b[0;34m\u001b[0m\u001b[0;34m\u001b[0m\u001b[0m\n\u001b[0m\u001b[1;32m     10\u001b[0m     \u001b[0mpath_length\u001b[0m\u001b[0;34m.\u001b[0m\u001b[0mappend\u001b[0m\u001b[0;34m(\u001b[0m\u001b[0mlen\u001b[0m\u001b[0;34m(\u001b[0m\u001b[0mpath\u001b[0m\u001b[0;34m)\u001b[0m\u001b[0;34m)\u001b[0m\u001b[0;34m\u001b[0m\u001b[0;34m\u001b[0m\u001b[0m\n\u001b[1;32m     11\u001b[0m \u001b[0;34m\u001b[0m\u001b[0m\n",
            "\u001b[0;32m<ipython-input-37-e7619e30b1aa>\u001b[0m in \u001b[0;36mastar\u001b[0;34m(maze, start, end)\u001b[0m\n\u001b[1;32m     80\u001b[0m             \u001b[0;31m# Child is on the closed list\u001b[0m\u001b[0;34m\u001b[0m\u001b[0;34m\u001b[0m\u001b[0;34m\u001b[0m\u001b[0m\n\u001b[1;32m     81\u001b[0m             \u001b[0;32mfor\u001b[0m \u001b[0mclosed_child\u001b[0m \u001b[0;32min\u001b[0m \u001b[0mclosed_list\u001b[0m\u001b[0;34m:\u001b[0m\u001b[0;34m\u001b[0m\u001b[0;34m\u001b[0m\u001b[0m\n\u001b[0;32m---> 82\u001b[0;31m                 \u001b[0;32mif\u001b[0m \u001b[0mchild\u001b[0m \u001b[0;34m==\u001b[0m \u001b[0mclosed_child\u001b[0m\u001b[0;34m:\u001b[0m\u001b[0;34m\u001b[0m\u001b[0;34m\u001b[0m\u001b[0m\n\u001b[0m\u001b[1;32m     83\u001b[0m                     \u001b[0;32mcontinue\u001b[0m\u001b[0;34m\u001b[0m\u001b[0;34m\u001b[0m\u001b[0m\n\u001b[1;32m     84\u001b[0m \u001b[0;34m\u001b[0m\u001b[0m\n",
            "\u001b[0;32m<ipython-input-37-e7619e30b1aa>\u001b[0m in \u001b[0;36m__eq__\u001b[0;34m(self, other)\u001b[0m\n\u001b[1;32m     11\u001b[0m \u001b[0;34m\u001b[0m\u001b[0m\n\u001b[1;32m     12\u001b[0m     \u001b[0;32mdef\u001b[0m \u001b[0m__eq__\u001b[0m\u001b[0;34m(\u001b[0m\u001b[0mself\u001b[0m\u001b[0;34m,\u001b[0m \u001b[0mother\u001b[0m\u001b[0;34m)\u001b[0m\u001b[0;34m:\u001b[0m\u001b[0;34m\u001b[0m\u001b[0;34m\u001b[0m\u001b[0m\n\u001b[0;32m---> 13\u001b[0;31m         \u001b[0;32mreturn\u001b[0m \u001b[0mself\u001b[0m\u001b[0;34m.\u001b[0m\u001b[0mposition\u001b[0m \u001b[0;34m==\u001b[0m \u001b[0mother\u001b[0m\u001b[0;34m.\u001b[0m\u001b[0mposition\u001b[0m\u001b[0;34m\u001b[0m\u001b[0;34m\u001b[0m\u001b[0m\n\u001b[0m\u001b[1;32m     14\u001b[0m \u001b[0;34m\u001b[0m\u001b[0m\n\u001b[1;32m     15\u001b[0m \u001b[0;34m\u001b[0m\u001b[0m\n",
            "\u001b[0;31mKeyboardInterrupt\u001b[0m: "
          ]
        }
      ]
    },
    {
      "cell_type": "markdown",
      "source": [
        "# A-star Alogorithm"
      ],
      "metadata": {
        "id": "Kb2vummaF3DF"
      }
    },
    {
      "cell_type": "code",
      "source": [
        "class Node():\n",
        "    \"\"\"A node class for A* Pathfinding\"\"\"\n",
        "\n",
        "    def __init__(self, parent=None, position=None):\n",
        "        self.parent = parent\n",
        "        self.position = position\n",
        "\n",
        "        self.g = 0\n",
        "        self.h = 0\n",
        "        self.f = 0\n",
        "\n",
        "    def __eq__(self, other):\n",
        "        return self.position == other.position\n",
        "\n",
        "\n",
        "def astar(maze, start, end):\n",
        "    \"\"\"Returns a list of tuples as a path from the given start to the given end in the given maze\"\"\"\n",
        "\n",
        "    # Create start and end node\n",
        "    start_node = Node(None, start)\n",
        "    start_node.g = start_node.h = start_node.f = 0\n",
        "    end_node = Node(None, end)\n",
        "    end_node.g = end_node.h = end_node.f = 0\n",
        "\n",
        "    # Initialize both open and closed list\n",
        "    open_list = []\n",
        "    closed_list = []\n",
        "\n",
        "    # Add the start node\n",
        "    open_list.append(start_node)\n",
        "\n",
        "    # Loop until you find the end\n",
        "    while len(open_list) > 0:\n",
        "\n",
        "        # Get the current node\n",
        "        current_node = open_list[0]\n",
        "        current_index = 0\n",
        "        for index, item in enumerate(open_list):\n",
        "            if item.f < current_node.f:\n",
        "                current_node = item\n",
        "                current_index = index\n",
        "\n",
        "        # Pop current off open list, add to closed list\n",
        "        open_list.pop(current_index)\n",
        "        closed_list.append(current_node)\n",
        "\n",
        "        # Found the goal\n",
        "        if current_node == end_node:\n",
        "            path = []\n",
        "            current = current_node\n",
        "            while current is not None:\n",
        "                path.append(current.position)\n",
        "                current = current.parent\n",
        "            return path[::-1] # Return reversed path\n",
        "\n",
        "        # Generate children\n",
        "        children = []\n",
        "        for new_position in [(0, -1), (0, 1), (-1, 0), (1, 0), (-1, -1), (-1, 1), (1, -1), (1, 1)]: # Adjacent squares\n",
        "\n",
        "            # Get node position\n",
        "            node_position = (current_node.position[0] + new_position[0], current_node.position[1] + new_position[1])\n",
        "\n",
        "            # Make sure within range\n",
        "            if node_position[0] > (len(maze) - 1) or node_position[0] < 0 or node_position[1] > (len(maze[len(maze)-1]) -1) or node_position[1] < 0:\n",
        "                continue\n",
        "\n",
        "            # Make sure walkable terrain\n",
        "            if maze[node_position[0]][node_position[1]] != 0:\n",
        "                continue\n",
        "\n",
        "            # Create new node\n",
        "            new_node = Node(current_node, node_position)\n",
        "\n",
        "            # Append\n",
        "            children.append(new_node)\n",
        "\n",
        "        # Loop through children\n",
        "        for child in children:\n",
        "\n",
        "            # Child is on the closed list\n",
        "            for closed_child in closed_list:\n",
        "                if child == closed_child:\n",
        "                    continue\n",
        "\n",
        "            # Create the f, g, and h values\n",
        "            child.g = current_node.g + 1\n",
        "            child.h = ((child.position[0] - end_node.position[0]) ** 2) + ((child.position[1] - end_node.position[1]) ** 2)\n",
        "            child.f = child.g + child.h\n",
        "\n",
        "            # Child is already in the open list\n",
        "            for open_node in open_list:\n",
        "                if child == open_node and child.g > open_node.g:\n",
        "                    continue\n",
        "\n",
        "            # Add the child to the open list\n",
        "            open_list.append(child)"
      ],
      "metadata": {
        "id": "RJZ6Dge-F20r"
      },
      "execution_count": null,
      "outputs": []
    },
    {
      "cell_type": "code",
      "source": [
        "maze = [[0, 0, 0, 0, 0, 0, 0],\n",
        "        [0, 0, 0, 0, 0, 0, 0],\n",
        "        [0, 0, 0, 0, 0, 0, 0],\n",
        "        [0, 0, 0, 0, 0, 0, 0],\n",
        "        [0, 0, 0, 0, 0, 0, 0],\n",
        "        [0, 0, 0, 0, 0, 0, 0],\n",
        "        [0, 0, 0, 0, 0, 0, 0]]\n",
        "\n",
        "start = (1, 1)\n",
        "end = (3, 5)\n",
        "\n",
        "path = astar(maze, start, end)\n",
        "print(path)"
      ],
      "metadata": {
        "colab": {
          "base_uri": "https://localhost:8080/"
        },
        "id": "fLaWlstltEm9",
        "outputId": "457c4116-3176-4fee-aeb9-2be52d5f5619"
      },
      "execution_count": null,
      "outputs": [
        {
          "output_type": "stream",
          "name": "stdout",
          "text": [
            "[(1, 1), (2, 2), (3, 3), (3, 4), (3, 5)]\n"
          ]
        }
      ]
    },
    {
      "cell_type": "markdown",
      "source": [
        "# Travelling Saleman"
      ],
      "metadata": {
        "id": "RPzdLfMr1mCC"
      }
    },
    {
      "cell_type": "code",
      "source": [
        "# Python3 program to implement traveling salesman\n",
        "# problem using naive approach.\n",
        "from sys import maxsize\n",
        "from itertools import permutations\n",
        " \n",
        "# implementation of traveling Salesman Problem\n",
        "def travellingSalesmanProblem(graph, s, V): #s: start, V:vertices\n",
        " \n",
        "    # store all vertex apart from source vertex\n",
        "    vertex = []\n",
        "    for i in range(V):\n",
        "        if i != s:\n",
        "            vertex.append(i)\n",
        "    print(vertex)\n",
        " \n",
        "    # store minimum weight Hamiltonian Cycle\n",
        "    min_path = maxsize # just a largest number - or inf in the algorithm\n",
        "    next_permutation=permutations(vertex) #just get every pairs of vertices from the selected vertex\n",
        "\n",
        "    for i in next_permutation:\n",
        " \n",
        "        # store current Path weight(cost)\n",
        "        current_pathweight = 0\n",
        " \n",
        "        # compute current path weight\n",
        "        k = s\n",
        "        for j in i:\n",
        "            current_pathweight += graph[k][j]\n",
        "            k = j\n",
        "        current_pathweight += graph[k][s]\n",
        " \n",
        "        # update minimum\n",
        "        min_path = min(min_path, current_pathweight)\n",
        "         \n",
        "    return min_path"
      ],
      "metadata": {
        "id": "PL1YzxFStfOs"
      },
      "execution_count": null,
      "outputs": []
    },
    {
      "cell_type": "code",
      "source": [
        "# matrix representation of graph\n",
        "graph = [[0, 10, 15, 20], [10, 0, 35, 25],\n",
        "        [15, 35, 0, 30], [20, 25, 30, 0]]\n",
        "s = 0\n",
        "print(travellingSalesmanProblem(graph, s, V=4))"
      ],
      "metadata": {
        "colab": {
          "base_uri": "https://localhost:8080/"
        },
        "id": "vsx8pQwyDRcf",
        "outputId": "dfee041b-41a3-45d0-9191-27c602cbeff4"
      },
      "execution_count": null,
      "outputs": [
        {
          "output_type": "stream",
          "name": "stdout",
          "text": [
            "[1, 2, 3]\n",
            "next_permutation is <itertools.permutations object at 0x7fe772508e90>\n",
            "80\n"
          ]
        }
      ]
    },
    {
      "cell_type": "code",
      "source": [
        "p_start = (0,3)\n",
        "p1 = (1,5)\n",
        "p2 = (3,5)\n",
        "p3 = (3,3)\n",
        "p4 = (4,1)\n",
        "p5 = (5,2)\n",
        "patients = [p_start, p1, p2, p3, p4, p5]\n",
        "\n",
        "graph = find_all_pair_distance(patients)\n",
        "s = 0 #start point\n",
        "print(travellingSalesmanProblem(graph, s, V=6))"
      ],
      "metadata": {
        "colab": {
          "base_uri": "https://localhost:8080/"
        },
        "id": "yY3KImpXDxmM",
        "outputId": "8774491f-4fb4-4df7-8fc0-d02b78612dd5"
      },
      "execution_count": null,
      "outputs": [
        {
          "output_type": "stream",
          "name": "stdout",
          "text": [
            "[1, 2, 3, 4, 5]\n",
            "next_permutation is <itertools.permutations object at 0x7fe772508110>\n",
            "18\n"
          ]
        }
      ]
    },
    {
      "cell_type": "code",
      "source": [
        "v = [1, 2, 3, 4, 5]\n",
        "next_permutation = permutations(v)\n",
        "list(next_permutation)"
      ],
      "metadata": {
        "id": "ZvJ5jGDCOLdU"
      },
      "execution_count": null,
      "outputs": []
    },
    {
      "cell_type": "markdown",
      "source": [
        "# <hr>"
      ],
      "metadata": {
        "id": "Ixk_6VjdCCH4"
      }
    },
    {
      "cell_type": "markdown",
      "source": [
        "# FuncAnimation"
      ],
      "metadata": {
        "id": "TnaFKpRhwbKM"
      }
    },
    {
      "cell_type": "code",
      "source": [
        "!pip install animation"
      ],
      "metadata": {
        "colab": {
          "base_uri": "https://localhost:8080/"
        },
        "id": "E09ladWuvdvl",
        "outputId": "7cb17deb-c73e-4b8d-eb3d-85d9c4506f8c"
      },
      "execution_count": null,
      "outputs": [
        {
          "output_type": "stream",
          "name": "stdout",
          "text": [
            "Collecting animation\n",
            "  Downloading animation-0.0.7-py2.py3-none-any.whl (5.3 kB)\n",
            "Collecting pychalk\n",
            "  Downloading pychalk-2.0.1.tar.gz (17 kB)\n",
            "Requirement already satisfied: six>=1.11.0 in /usr/local/lib/python3.7/dist-packages (from pychalk->animation) (1.15.0)\n",
            "Building wheels for collected packages: pychalk\n",
            "  Building wheel for pychalk (setup.py) ... \u001b[?25l\u001b[?25hdone\n",
            "  Created wheel for pychalk: filename=pychalk-2.0.1-py3-none-any.whl size=7667 sha256=4f65ece0530e0adb40004df283947198526ef5f999201a307e1bca995b589c0a\n",
            "  Stored in directory: /root/.cache/pip/wheels/82/52/3d/0b82939aff61587fc59700c774dd1b2f1df570848fd324444c\n",
            "Successfully built pychalk\n",
            "Installing collected packages: pychalk, animation\n",
            "Successfully installed animation-0.0.7 pychalk-2.0.1\n"
          ]
        }
      ]
    },
    {
      "cell_type": "code",
      "source": [
        "x = range(100)\n",
        "y = np.random.rand(100)\n",
        "\n",
        "fig, ax = plt.subplots()\n",
        "ax.set_xlim(0, 100)\n",
        "ax.set_ylim(0, 1)\n",
        "graph, = plt.plot([], [], '-')\n",
        "\n",
        "def init():\n",
        "    return graph,\n",
        "\n",
        "def animate(i):\n",
        "    graph.set_data(x[:i],y[:i])\n",
        "    return graph,\n",
        "\n",
        "ani = FuncAnimation(fig, animate, frames=range(len(x)), interval=50, save_count=len(x),\n",
        "                    init_func=init, blit=True)\n",
        "ani.save('ani.gif', writer='pillow')"
      ],
      "metadata": {
        "colab": {
          "base_uri": "https://localhost:8080/",
          "height": 269
        },
        "id": "jkGT9zFItvU1",
        "outputId": "7d750a02-db95-444e-da6e-544492f624ed"
      },
      "execution_count": null,
      "outputs": [
        {
          "output_type": "display_data",
          "data": {
            "text/plain": [
              "<Figure size 432x288 with 1 Axes>"
            ],
            "image/png": "[encoded data removed]"
          },
          "metadata": {}
        }
      ]
    },
    {
      "cell_type": "code",
      "source": [
        "import matplotlib.pyplot as plt\n",
        "import numpy as np\n",
        "from matplotlib.animation import FuncAnimation\n",
        "\n",
        "sns.set_style(\"whitegrid\")\n",
        "    \n",
        "n=100\n",
        "x_temp = [np.linspace(10, 100, n),\n",
        "          np.linspace(50, 120, n),\n",
        "          np.linspace(70, 90, n)]\n",
        "y_temp = [np.linspace(10, 100, n),\n",
        "          np.linspace(50, 120, n),\n",
        "          np.linspace(70, 90, n)]\n",
        "\n",
        "\n",
        "fig, ax = plt.subplots()\n",
        "ax = plt.axes(xlim=(0, 150), ylim=(0, 150))\n",
        "plt.xticks([0, 25,50,75,100,125,150])\n",
        "plt.yticks([0, 25,50,75,100,125,150])\n",
        "\n",
        "points = []\n",
        "for j, (col, mar) in enumerate(zip([\"green\", \"blue\", \"red\"], [\"o\", \"x\", \"s\"])):\n",
        "    newpoint, = ax.plot(x_temp[j][0], y_temp[j][0], color=col, marker=mar)\n",
        "    points.append(newpoint)\n",
        "\n",
        "def animation_frames(i):\n",
        "    for j in range(0,3):\n",
        "        points[j].set_data(x_temp[j][i], y_temp[j][i])        \n",
        "\n",
        "\n",
        "animation = FuncAnimation(fig, animation_frames, frames=len(x_temp[0]), interval=30)\n",
        "animation.save('animationBrownianMotion2d.gif', writer='pillow', fps=30)\n",
        "    \n",
        "plt.show()"
      ],
      "metadata": {
        "colab": {
          "base_uri": "https://localhost:8080/"
        },
        "id": "C7HRXZ5N1DSq",
        "outputId": "28101529-bd57-434a-b235-bbeb3b8f7407"
      },
      "execution_count": null,
      "outputs": [
        {
          "output_type": "display_data",
          "data": {
            "text/plain": [
              "<Figure size 432x288 with 1 Axes>"
            ],
            "image/png": "[encoded data removed]"
          },
          "metadata": {}
        }
      ]
    },
    {
      "cell_type": "code",
      "source": [
        "import matplotlib.pyplot as plt\n",
        "import numpy as np\n",
        "from matplotlib.animation import FuncAnimation\n",
        "\n",
        "sns.set_style(\"whitegrid\")\n",
        "    \n",
        "n=100\n",
        "x_temp = [np.linspace(1, 1.5, n),\n",
        "          np.linspace(3, 5.5, n),\n",
        "          np.linspace(2, 6, n)]\n",
        "y_temp = [np.linspace(0.5, 3, n),\n",
        "          np.linspace(5, 6, n),\n",
        "          np.linspace(1, 4, n)]\n",
        "\n",
        "coordinates = [(0.5,0.5), (1.5,2.5), (4.5, 5.5), (5.5, 3.5), (3.5, 2.5)]\n",
        "\n",
        "x = [i[0] for i in coordinates]\n",
        "y = [i[1] for i in coordinates]\n",
        "\n",
        "fig, ax = plt.subplots()\n",
        "ax = plt.axes(xlim=(0, 6), ylim=(0, 6))\n",
        "plt.xticks([0,1,2,3,4,5,6])\n",
        "plt.yticks([0,1,2,3,4,5,6])\n",
        "\n",
        "points = []\n",
        "for j, (col, mar) in enumerate(zip([\"green\", \"blue\", \"red\"], [\"o\", \"x\", \"s\"])):\n",
        "    newpoint, = ax.plot(x_temp[j][0], y_temp[j][0], color=col, marker=mar)\n",
        "    points.append(newpoint)\n",
        "\n",
        "for i in coordinates:\n",
        "  ax.plot(i[0], i[1])\n",
        "\n",
        "def animation_frames(i):\n",
        "    for j in range(0,3):\n",
        "        points[j].set_data(x_temp[j][i], y_temp[j][i])        \n",
        "\n",
        "animation = FuncAnimation(fig, animation_frames, frames=len(x_temp[0]), interval=30)\n",
        "animation.save('animationBrownianMotion2d.gif', writer='pillow', fps=30)\n",
        "    \n",
        "plt.show()"
      ],
      "metadata": {
        "colab": {
          "base_uri": "https://localhost:8080/"
        },
        "id": "kLsEGllO85Jm",
        "outputId": "1e18194b-07a4-46e6-885c-d93ae70d58eb"
      },
      "execution_count": null,
      "outputs": [
        {
          "output_type": "display_data",
          "data": {
            "text/plain": [
              "<Figure size 432x288 with 1 Axes>"
            ],
            "image/png": "[encoded data removed]"
          },
          "metadata": {}
        }
      ]
    }
  ]
}